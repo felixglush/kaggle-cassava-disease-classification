{
 "cells": [
  {
   "cell_type": "code",
   "execution_count": 17,
   "metadata": {
    "pycharm": {
     "name": "#%%\n"
    }
   },
   "outputs": [],
   "source": [
    "import errno\n",
    "import glob\n",
    "import json\n",
    "import os\n",
    "import re\n",
    "import torch\n",
    "from torch.utils.tensorboard import SummaryWriter\n",
    "from common_utils import read_csv, create_holdout_loader, stratify_split, make_holdout_df\n",
    "\n",
    "from logger import init_logger\n",
    "from train_utilities.trainer import Trainer\n",
    "import config"
   ]
  },
  {
   "cell_type": "code",
   "execution_count": null,
   "metadata": {
    "collapsed": true
   },
   "outputs": [],
   "source": [
    "def main(experiment_name, resume, settings, train_fold=None):\n",
    "    assert train_fold is None or train_fold in range(settings.fold_num)\n",
    "    experiment_dir = settings.save_dir + f'/{experiment_name}'\n",
    "\n",
    "    try:\n",
    "        # -------- SETUP --------\n",
    "        # if resuming, get checkpoint parameters\n",
    "        checkpoint_params = get_checkpoint_params(experiment_dir, resume, train_fold)\n",
    "        logger = init_logger()\n",
    "        tb_writer = SummaryWriter(f'./runs/{experiment_name}')\n",
    "        device = torch.device('cuda' if torch.cuda.is_available() else 'cpu')\n",
    "\n",
    "        if not checkpoint_params:\n",
    "            make_experiment_directory(experiment_dir)\n",
    "\n",
    "            # -------- LOAD DATA FROM TRAIN FILE --------\n",
    "            data_df = read_csv(settings.data_dir + '/train.csv', settings.debug)\n",
    "            holdout_df = make_holdout_df(data_df)\n",
    "            folds_df = stratify_split(data_df, settings.fold_num, settings.seed, settings.target_col)\n",
    "\n",
    "            # -------- SAVE FILES (for experiment state) --------\n",
    "            folds_df.to_csv(experiment_dir + '/folds.csv', index=False)\n",
    "            # save holdout to a csv file for final inference (so we don't run inference on training examples)\n",
    "            holdout_df.to_csv(experiment_dir + '/holdout.csv', index=False)\n",
    "            # save the settings for this experiment to its directory\n",
    "            with open(experiment_dir + '/settings.json', 'w') as f:\n",
    "                json.dump(settings, f)\n",
    "        else:\n",
    "            # LOAD DATA FROM SAVED FILES\n",
    "            folds_df = read_csv(experiment_dir + '/folds.csv', settings.debug)\n",
    "            holdout_df = read_csv(experiment_dir + '/holdout.csv', settings.debug)\n",
    "            with open(experiment_dir + '/settings.json', 'r') as f:\n",
    "                settings = json.load(f)\n",
    "\n",
    "        holdout_loader, holdout_targets = create_holdout_loader(holdout_df, settings.data_dir + '/train_images')\n",
    "\n",
    "        trainer = Trainer(folds_df=folds_df, holdout_loader=holdout_loader,\n",
    "                          logger=logger, tensorboard_writer=tb_writer,\n",
    "                          device=device, checkpoint_params=checkpoint_params,\n",
    "                          settings=settings, experiment_dir=experiment_dir)\n",
    "        trainer.fit()\n",
    "    finally:\n",
    "        torch.cuda.empty_cache()\n",
    "\n",
    "def make_experiment_directory(basename):\n",
    "    try:\n",
    "        os.makedirs(basename)\n",
    "    except OSError as e:\n",
    "        print('Experiment already exists. Be sure to resume training appropriately or start a new experiment.')\n",
    "        if e.errno != errno.EEXIST: raise\n",
    "\n",
    "\n",
    "def get_checkpoint_params(basename, resume, train_fold):\n",
    "    \"\"\"\n",
    "    We can restart from the middle of a fold or start from the beginning of a fold.\n",
    "\n",
    "    checkpoint_params: {\"restart_from\": fold, \"start_beginning_of\": fold, \"checkpoint_file_path\": file}\n",
    "        restart_from (int): start from middle of a fold - typically used when a training session was cancelled mid fold\n",
    "            checkpoint_file_path (str) is required in this case\n",
    "        start_beginning_of (int): train a particular fold\n",
    "    \"\"\"\n",
    "\n",
    "    checkpoint_params = None\n",
    "    if resume:\n",
    "        model_filenames = glob.glob(basename + '/*.pth')\n",
    "        trained_folds = [re.findall(r'fold\\d+', f)[0][len('fold'):]\n",
    "                         for f in model_filenames]\n",
    "        if train_fold is not None:\n",
    "            assert train_fold not in trained_folds\n",
    "            checkpoint_params['start_beginning_of'] = train_fold\n",
    "        else:\n",
    "            most_recent_fold = max(trained_folds)\n",
    "            checkpoint_params['restart_from'] = most_recent_fold\n",
    "            checkpoint_params['checkpoint_file_path'] = basename + f'/{config.settings.model_arch}_fold{most_recent_fold}.pth'\n",
    "    return checkpoint_params\n",
    "\n"
   ]
  },
  {
   "cell_type": "code",
   "execution_count": null,
   "metadata": {
    "pycharm": {
     "name": "#%%\n"
    }
   },
   "outputs": [],
   "source": [
    "if __name__ == '__main__':\n",
    "    try:\n",
    "        print('Running in debug mode:', config.settings.debug)\n",
    "        main(experiment_name_dir='', resume=False, settings=config.settings)\n",
    "    except KeyboardInterrupt:\n",
    "        pass\n"
   ]
  }
 ],
 "metadata": {
  "kernelspec": {
   "display_name": "Python 3",
   "language": "python",
   "name": "python3"
  },
  "language_info": {
   "codemirror_mode": {
    "name": "ipython",
    "version": 3
   },
   "file_extension": ".py",
   "mimetype": "text/x-python",
   "name": "python",
   "nbconvert_exporter": "python",
   "pygments_lexer": "ipython3",
   "version": "3.7.9"
  }
 },
 "nbformat": 4,
 "nbformat_minor": 1
}
