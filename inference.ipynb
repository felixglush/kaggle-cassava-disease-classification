{
 "cells": [
  {
   "cell_type": "code",
   "execution_count": 2,
   "metadata": {},
   "outputs": [],
   "source": [
    "def run_inference(experiment_name_dir, model_arch):\n",
    "    LOGGER.info('========== Running inference ==========')\n",
    "    base_experiment_filename = Config.save_dir + f'/{experiment_name_dir}/{model_arch}_fold'    \n",
    "\n",
    "    model_states = [torch.load(base_experiment_filename + f'{fold}.pth')['model']\n",
    "                    for fold in range(Config.fold_num)]\n",
    "    \n",
    "    # temporary try out\n",
    "    for i in range(4):\n",
    "        model_states.append(torch.load(Config.save_dir + f'/exp1_88_Adam/{Config.model_arch}_fold{i}.pth')['model'])\n",
    "\n",
    "    if not kaggle: \n",
    "        loader = holdout_dataloader\n",
    "        num_samples = len(holdout_df)\n",
    "    else: \n",
    "        loader = test_dataloader \n",
    "        num_samples = len(test_df)\n",
    "\n",
    "    inference_start = time.time()\n",
    "\n",
    "    predictions = ensemble_inference(model_states, Config.model_arch, \n",
    "                            data_df.label.nunique(), loader, num_samples, device, mode='vote')\n",
    "\n",
    "    inference_elapsed = time.time() - inference_start\n",
    "    LOGGER.info(f\"Inference time: {str(timedelta(seconds=inference_elapsed))}\")\n",
    "\n",
    "    if not kaggle:\n",
    "        holdout_accuracy = accuracy_score(y_true=holdout_targets, y_pred=predictions)\n",
    "        LOGGER.info(f\"Ensemble model holdout accuracy: {holdout_accuracy}\")\n",
    "\n",
    "    # submission\n",
    "    if kaggle:\n",
    "        submission = pd.DataFrame()\n",
    "        submission['image_id'] = test_df['image_id']\n",
    "        submission['label'] = predictions\n",
    "        submission.to_csv('submission.csv', index=False)\n",
    "    \n",
    "    return resultsStore"
   ]
  },
  {
   "cell_type": "code",
   "execution_count": null,
   "metadata": {},
   "outputs": [],
   "source": []
  }
 ],
 "metadata": {
  "kernelspec": {
   "display_name": "Python 3",
   "language": "python",
   "name": "python3"
  },
  "language_info": {
   "codemirror_mode": {
    "name": "ipython",
    "version": 3
   },
   "file_extension": ".py",
   "mimetype": "text/x-python",
   "name": "python",
   "nbconvert_exporter": "python",
   "pygments_lexer": "ipython3",
   "version": "3.7.9"
  }
 },
 "nbformat": 4,
 "nbformat_minor": 4
}
