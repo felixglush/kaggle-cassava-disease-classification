{
 "cells": [
  {
   "cell_type": "code",
   "execution_count": 2,
   "metadata": {},
   "outputs": [],
   "source": [
    "import json\n",
    "import os\n",
    "from datetime import timedelta\n",
    "import time\n",
    "from sklearn.metrics import accuracy_score\n",
    "import pandas as pd\n",
    "\n",
    "# My modules\n",
    "from types import SimpleNamespace\n",
    "from common_utils import set_seeds\n",
    "from config import Configuration\n",
    "from train_manager import TrainManager\n",
    "\n",
    "import warnings\n",
    "warnings.filterwarnings('ignore')\n",
    "\n",
    "%load_ext autoreload\n",
    "%autoreload 2"
   ]
  },
  {
   "cell_type": "code",
   "metadata": {
    "pycharm": {
     "name": "#%%\n"
    }
   },
   "source": [
    "def run_inference(experiment_name, kaggle, config):\n",
    "    experiment_dir = os.path.abspath(config.save_dir + f'/{experiment_name}')\n",
    "\n",
    "    if not kaggle: \n",
    "        with open(experiment_dir + '/experiment_config.json', 'r') as f:\n",
    "            config = json.load(f, object_hook=lambda d: SimpleNamespace(**d))\n",
    "            set_seeds(config.seed)\n",
    "        df = pd.read_csv(experiment_dir + '/holdout.csv', engine='python')\n",
    "    else: \n",
    "        df = pd.DataFrame()\n",
    "        df['image_id'] = list(os.listdir(config.test_img_dir))\n",
    "\n",
    "    inference_start = time.time()\n",
    "    \n",
    "    # get predictions... folds = None means ensemble inference\n",
    "    manager = TrainManager(folds_df=None, holdout_df=df, config=config,\n",
    "                           experiment_dir=experiment_dir, experiment_name=experiment_name, kaggle=kaggle)\n",
    "    manager.run_ensemble()\n",
    "    \n",
    "    print(f\"Inference time: {str(timedelta(seconds=time.time() - inference_start))}\")\n",
    "    if not kaggle:\n",
    "        acc = accuracy_score(y_true=df.label.values, y_pred=manager.test_predictions_ensembled)\n",
    "        print(\"Ensemble holdout accuracy\", acc)\n",
    "    if kaggle:\n",
    "         # make submission file\n",
    "        submission = pd.DataFrame()\n",
    "        submission['image_id'] = df['image_id']\n",
    "        submission['label'] = manager.test_predictions_ensembled\n",
    "        submission.to_csv('submission.csv', index=False)"
   ],
   "execution_count": 3,
   "outputs": []
  },
  {
   "cell_type": "code",
   "execution_count": 4,
   "metadata": {
    "pycharm": {
     "name": "#%%\n"
    }
   },
   "outputs": [
    {
     "ename": "FileNotFoundError",
     "evalue": "[Errno 2] No such file or directory: '/home/felix/dev/kaggle/kaggle-cassava/trained-models/exp8_sgd_frozen_batch_norm/experiment_config.json'",
     "output_type": "error",
     "traceback": [
      "\u001B[0;31m---------------------------------------------------------------------------\u001B[0m",
      "\u001B[0;31mFileNotFoundError\u001B[0m                         Traceback (most recent call last)",
      "\u001B[0;32m<ipython-input-4-de938c36fded>\u001B[0m in \u001B[0;36m<module>\u001B[0;34m()\u001B[0m\n\u001B[0;32m----> 1\u001B[0;31m \u001B[0mrun_inference\u001B[0m\u001B[0;34m(\u001B[0m\u001B[0mexperiment_name\u001B[0m\u001B[0;34m=\u001B[0m\u001B[0;34m'exp8_sgd_frozen_batch_norm'\u001B[0m\u001B[0;34m,\u001B[0m \u001B[0mkaggle\u001B[0m\u001B[0;34m=\u001B[0m\u001B[0;32mFalse\u001B[0m\u001B[0;34m,\u001B[0m \u001B[0mconfig\u001B[0m\u001B[0;34m=\u001B[0m\u001B[0mConfiguration\u001B[0m\u001B[0;34m(\u001B[0m\u001B[0;34m)\u001B[0m\u001B[0;34m)\u001B[0m\u001B[0;34m\u001B[0m\u001B[0;34m\u001B[0m\u001B[0m\n\u001B[0m",
      "\u001B[0;32m<ipython-input-3-5cae3aab03ea>\u001B[0m in \u001B[0;36mrun_inference\u001B[0;34m(experiment_name, kaggle, config)\u001B[0m\n\u001B[1;32m      4\u001B[0m \u001B[0;34m\u001B[0m\u001B[0m\n\u001B[1;32m      5\u001B[0m     \u001B[0;32mif\u001B[0m \u001B[0;32mnot\u001B[0m \u001B[0mkaggle\u001B[0m\u001B[0;34m:\u001B[0m\u001B[0;34m\u001B[0m\u001B[0;34m\u001B[0m\u001B[0m\n\u001B[0;32m----> 6\u001B[0;31m         \u001B[0;32mwith\u001B[0m \u001B[0mopen\u001B[0m\u001B[0;34m(\u001B[0m\u001B[0mexperiment_dir\u001B[0m \u001B[0;34m+\u001B[0m \u001B[0;34m'/experiment_config.json'\u001B[0m\u001B[0;34m,\u001B[0m \u001B[0;34m'r'\u001B[0m\u001B[0;34m)\u001B[0m \u001B[0;32mas\u001B[0m \u001B[0mf\u001B[0m\u001B[0;34m:\u001B[0m\u001B[0;34m\u001B[0m\u001B[0;34m\u001B[0m\u001B[0m\n\u001B[0m\u001B[1;32m      7\u001B[0m             \u001B[0mconfig\u001B[0m \u001B[0;34m=\u001B[0m \u001B[0mjson\u001B[0m\u001B[0;34m.\u001B[0m\u001B[0mload\u001B[0m\u001B[0;34m(\u001B[0m\u001B[0mf\u001B[0m\u001B[0;34m,\u001B[0m \u001B[0mobject_hook\u001B[0m\u001B[0;34m=\u001B[0m\u001B[0;32mlambda\u001B[0m \u001B[0md\u001B[0m\u001B[0;34m:\u001B[0m \u001B[0mSimpleNamespace\u001B[0m\u001B[0;34m(\u001B[0m\u001B[0;34m**\u001B[0m\u001B[0md\u001B[0m\u001B[0;34m)\u001B[0m\u001B[0;34m)\u001B[0m\u001B[0;34m\u001B[0m\u001B[0;34m\u001B[0m\u001B[0m\n\u001B[1;32m      8\u001B[0m             \u001B[0mset_seeds\u001B[0m\u001B[0;34m(\u001B[0m\u001B[0mconfig\u001B[0m\u001B[0;34m.\u001B[0m\u001B[0mseed\u001B[0m\u001B[0;34m)\u001B[0m\u001B[0;34m\u001B[0m\u001B[0;34m\u001B[0m\u001B[0m\n",
      "\u001B[0;31mFileNotFoundError\u001B[0m: [Errno 2] No such file or directory: '/home/felix/dev/kaggle/kaggle-cassava/trained-models/exp8_sgd_frozen_batch_norm/experiment_config.json'"
     ]
    }
   ],
   "source": [
    "run_inference(experiment_name='exp8_sgd_frozen_batch_norm', kaggle=False, config=Configuration())"
   ]
  }
 ],
 "metadata": {
  "kernelspec": {
   "display_name": "Python 3",
   "language": "python",
   "name": "python3"
  },
  "language_info": {
   "codemirror_mode": {
    "name": "ipython",
    "version": 3
   },
   "file_extension": ".py",
   "mimetype": "text/x-python",
   "name": "python",
   "nbconvert_exporter": "python",
   "pygments_lexer": "ipython3",
   "version": "3.7.9"
  }
 },
 "nbformat": 4,
 "nbformat_minor": 4
}