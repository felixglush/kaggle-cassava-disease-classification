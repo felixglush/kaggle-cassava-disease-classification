{
 "cells": [
  {
   "cell_type": "code",
   "execution_count": 2,
   "metadata": {},
   "outputs": [],
   "source": [
    "import itertools\n",
    "import json\n",
    "import os\n",
    "from datetime import timedelta\n",
    "import time\n",
    "from sklearn.metrics import accuracy_score\n",
    "import pandas as pd\n",
    "import cv2\n",
    "\n",
    "# My modules\n",
    "from types import SimpleNamespace\n",
    "from utils import set_seeds\n",
    "from config import Configuration\n",
    "from train_manager import TrainManager\n",
    "import matplotlib.pyplot as plt\n",
    "import numpy as np\n",
    "import warnings\n",
    "warnings.filterwarnings('ignore')\n",
    "\n",
    "%load_ext autoreload\n",
    "%autoreload 2"
   ]
  },
  {
   "cell_type": "code",
   "execution_count": 3,
   "metadata": {},
   "outputs": [],
   "source": [
    "def plot_confusion_matrix(cm, class_names):\n",
    "    \"\"\"\n",
    "    https://www.tensorflow.org/tensorboard/image_summaries#building_an_image_classifier\n",
    "    Returns a matplotlib figure containing the plotted confusion matrix.\n",
    "\n",
    "    Args:\n",
    "    cm (array, shape = [n, n]): a confusion matrix of integer classes\n",
    "    class_names (array, shape = [n]): String names of the integer classes\n",
    "    \"\"\"\n",
    "    figure = plt.figure(figsize=(8, 8))\n",
    "    plt.imshow(cm, interpolation='nearest', cmap=plt.cm.Blues)\n",
    "    plt.title(\"Confusion matrix\")\n",
    "    plt.colorbar()\n",
    "    tick_marks = np.arange(len(class_names))\n",
    "    plt.xticks(tick_marks, class_names, rotation=45)\n",
    "    plt.yticks(tick_marks, class_names)\n",
    "\n",
    "    # Compute the labels from the normalized confusion matrix.\n",
    "    labels = np.around(cm.astype('float') / cm.sum(axis=1)[:, np.newaxis], decimals=2)\n",
    "\n",
    "    # Use white text if squares are dark; otherwise black.\n",
    "    threshold = cm.max() / 2.\n",
    "    for i, j in itertools.product(range(cm.shape[0]), range(cm.shape[1])):\n",
    "        color = \"white\" if cm[i, j] > threshold else \"black\"\n",
    "        plt.text(j, i, labels[i, j], horizontalalignment=\"center\", color=color)\n",
    "\n",
    "    plt.tight_layout()\n",
    "    plt.ylabel('True label')\n",
    "    plt.xlabel('Predicted label')\n",
    "    return figure"
   ]
  },
  {
   "cell_type": "code",
   "execution_count": 4,
   "metadata": {
    "pycharm": {
     "name": "#%%\n"
    }
   },
   "outputs": [],
   "source": [
    "def run_inference(experiment_name, tta, weight_avg, kaggle):\n",
    "    config = Configuration()\n",
    "    experiment_dir = os.path.abspath(f'trained-models/{experiment_name}')\n",
    "\n",
    "    if not kaggle: \n",
    "        with open(experiment_dir + '/experiment_config.json', 'r') as f:\n",
    "            config = json.load(f, object_hook=lambda d: SimpleNamespace(**d))\n",
    "            set_seeds(config.seed)\n",
    "        df = pd.read_csv(experiment_dir + '/holdout.csv', engine='python')\n",
    "    else: \n",
    "        df = pd.DataFrame()\n",
    "        df['image_id'] = list(os.listdir(config.test_img_dir))\n",
    "    \n",
    "    if config.num_workers > 0:\n",
    "        cv2.setNumThreads(0)\n",
    "\n",
    "    inference_start = time.time()\n",
    "    print(config.model_arch)\n",
    "    # get predictions... folds = None just means ensemble inference\n",
    "    manager = TrainManager(folds_df=None, holdout_df=df, config=config,\n",
    "                           experiment_dir=experiment_dir, experiment_name=experiment_name, kaggle=kaggle,\n",
    "                          finetune=False, freeze_bn=False, freeze_feature_extractor=False)\n",
    "    manager.test(tta, weight_avg, mode='vote')\n",
    "    \n",
    "\n",
    "    print(f\"Inference time: {str(timedelta(seconds=time.time() - inference_start))}\")\n",
    "    if not kaggle:\n",
    "        acc = accuracy_score(y_true=df.label.values, y_pred=manager.final_test_predictions)\n",
    "        print(\"Ensemble holdout accuracy\", acc)\n",
    "        plot_confusion_matrix(manager.test_confusion_matrix.detach().cpu().numpy(), class_names=[i for i in range(config.num_classes)])\n",
    "        return acc\n",
    "\n",
    "    if kaggle:\n",
    "         # make submission file\n",
    "        submission = pd.DataFrame()\n",
    "        submission['image_id'] = df['image_id']\n",
    "        submission['label'] = manager.test_predictions_ensembled\n",
    "        submission.to_csv('submission.csv', index=False)"
   ]
  },
  {
   "cell_type": "code",
   "execution_count": 5,
   "metadata": {
    "pycharm": {
     "name": "#%%\n"
    },
    "scrolled": false
   },
   "outputs": [
    {
     "name": "stdout",
     "output_type": "stream",
     "text": [
      "tf_efficientnet_b4_ns\n"
     ]
    },
    {
     "name": "stderr",
     "output_type": "stream",
     "text": [
      "GPU available: True, used: True\n",
      "TPU available: None, using: 0 TPU cores\n",
      "LOCAL_RANK: 0 - CUDA_VISIBLE_DEVICES: [0]\n",
      "Using native 16bit precision.\n"
     ]
    },
    {
     "name": "stdout",
     "output_type": "stream",
     "text": [
      "model # 0, tta # 0\n",
      "Testing:  98%|█████████▊| 50/51 [00:17<00:00,  3.64it/s]Test epoch ended.\n",
      "Testing: 100%|██████████| 51/51 [00:17<00:00,  2.94it/s]\n",
      "--------------------------------------------------------------------------------\n",
      "DATALOADER:0 TEST RESULTS\n",
      "{'test_acc': tensor(0.8785, device='cuda:0')}\n",
      "--------------------------------------------------------------------------------\n",
      "model # 0, tta # 1\n",
      "Testing:  98%|█████████▊| 50/51 [00:16<00:00,  3.66it/s]Test epoch ended.\n",
      "Testing: 100%|██████████| 51/51 [00:16<00:00,  3.10it/s]\n",
      "--------------------------------------------------------------------------------\n",
      "DATALOADER:0 TEST RESULTS\n",
      "{'test_acc': tensor(0.8760, device='cuda:0')}\n",
      "--------------------------------------------------------------------------------\n",
      "model # 0, tta # 2\n",
      "Testing:  98%|█████████▊| 50/51 [00:16<00:00,  3.64it/s]Test epoch ended.\n",
      "Testing: 100%|██████████| 51/51 [00:16<00:00,  3.04it/s]\n",
      "--------------------------------------------------------------------------------\n",
      "DATALOADER:0 TEST RESULTS\n",
      "{'test_acc': tensor(0.8779, device='cuda:0')}\n",
      "--------------------------------------------------------------------------------\n",
      "model # 1, tta # 0\n",
      "Testing:  98%|█████████▊| 50/51 [00:16<00:00,  3.63it/s]Test epoch ended.\n",
      "Testing: 100%|██████████| 51/51 [00:16<00:00,  3.07it/s]\n",
      "--------------------------------------------------------------------------------\n",
      "DATALOADER:0 TEST RESULTS\n",
      "{'test_acc': tensor(0.8741, device='cuda:0')}\n",
      "--------------------------------------------------------------------------------\n",
      "model # 1, tta # 1\n",
      "Testing:  98%|█████████▊| 50/51 [00:16<00:00,  3.63it/s]Test epoch ended.\n",
      "Testing: 100%|██████████| 51/51 [00:16<00:00,  3.12it/s]\n",
      "--------------------------------------------------------------------------------\n",
      "DATALOADER:0 TEST RESULTS\n",
      "{'test_acc': tensor(0.8754, device='cuda:0')}\n",
      "--------------------------------------------------------------------------------\n",
      "model # 1, tta # 2\n",
      "Testing:  98%|█████████▊| 50/51 [00:16<00:00,  3.63it/s]Test epoch ended.\n",
      "Testing: 100%|██████████| 51/51 [00:16<00:00,  3.06it/s]\n",
      "--------------------------------------------------------------------------------\n",
      "DATALOADER:0 TEST RESULTS\n",
      "{'test_acc': tensor(0.8745, device='cuda:0')}\n",
      "--------------------------------------------------------------------------------\n",
      "model # 2, tta # 0\n",
      "Testing:  98%|█████████▊| 50/51 [00:16<00:00,  3.63it/s]Test epoch ended.\n",
      "Testing: 100%|██████████| 51/51 [00:16<00:00,  3.10it/s]\n",
      "--------------------------------------------------------------------------------\n",
      "DATALOADER:0 TEST RESULTS\n",
      "{'test_acc': tensor(0.8773, device='cuda:0')}\n",
      "--------------------------------------------------------------------------------\n",
      "model # 2, tta # 1\n",
      "Testing:  98%|█████████▊| 50/51 [00:16<00:00,  3.62it/s]Test epoch ended.\n",
      "Testing: 100%|██████████| 51/51 [00:16<00:00,  3.04it/s]\n",
      "--------------------------------------------------------------------------------\n",
      "DATALOADER:0 TEST RESULTS\n",
      "{'test_acc': tensor(0.8763, device='cuda:0')}\n",
      "--------------------------------------------------------------------------------\n",
      "model # 2, tta # 2\n",
      "Testing:  98%|█████████▊| 50/51 [00:16<00:00,  3.62it/s]Test epoch ended.\n",
      "Testing: 100%|██████████| 51/51 [00:16<00:00,  3.09it/s]\n",
      "--------------------------------------------------------------------------------\n",
      "DATALOADER:0 TEST RESULTS\n",
      "{'test_acc': tensor(0.8798, device='cuda:0')}\n",
      "--------------------------------------------------------------------------------\n",
      "model # 3, tta # 0\n",
      "Testing:  98%|█████████▊| 50/51 [00:16<00:00,  3.62it/s]Test epoch ended.\n",
      "Testing: 100%|██████████| 51/51 [00:16<00:00,  3.05it/s]\n",
      "--------------------------------------------------------------------------------\n",
      "DATALOADER:0 TEST RESULTS\n",
      "{'test_acc': tensor(0.8738, device='cuda:0')}\n",
      "--------------------------------------------------------------------------------\n",
      "model # 3, tta # 1\n",
      "Testing:  98%|█████████▊| 50/51 [00:16<00:00,  3.62it/s]Test epoch ended.\n",
      "Testing: 100%|██████████| 51/51 [00:16<00:00,  3.04it/s]\n",
      "--------------------------------------------------------------------------------\n",
      "DATALOADER:0 TEST RESULTS\n",
      "{'test_acc': tensor(0.8723, device='cuda:0')}\n",
      "--------------------------------------------------------------------------------\n",
      "model # 3, tta # 2\n",
      "Testing:  98%|█████████▊| 50/51 [00:16<00:00,  3.61it/s]Test epoch ended.\n",
      "Testing: 100%|██████████| 51/51 [00:16<00:00,  3.09it/s]\n",
      "--------------------------------------------------------------------------------\n",
      "DATALOADER:0 TEST RESULTS\n",
      "{'test_acc': tensor(0.8701, device='cuda:0')}\n",
      "--------------------------------------------------------------------------------\n",
      "model # 4, tta # 0\n",
      "Testing:  98%|█████████▊| 50/51 [00:16<00:00,  3.62it/s]Test epoch ended.\n",
      "Testing: 100%|██████████| 51/51 [00:16<00:00,  3.01it/s]\n",
      "--------------------------------------------------------------------------------\n",
      "DATALOADER:0 TEST RESULTS\n",
      "{'test_acc': tensor(0.8732, device='cuda:0')}\n",
      "--------------------------------------------------------------------------------\n",
      "model # 4, tta # 1\n",
      "Testing:  98%|█████████▊| 50/51 [00:16<00:00,  3.61it/s]Test epoch ended.\n",
      "Testing: 100%|██████████| 51/51 [00:16<00:00,  3.14it/s]\n",
      "--------------------------------------------------------------------------------\n",
      "DATALOADER:0 TEST RESULTS\n",
      "{'test_acc': tensor(0.8713, device='cuda:0')}\n",
      "--------------------------------------------------------------------------------\n",
      "model # 4, tta # 2\n",
      "Testing:  98%|█████████▊| 50/51 [00:16<00:00,  3.62it/s]Test epoch ended.\n",
      "Testing: 100%|██████████| 51/51 [00:16<00:00,  3.02it/s]\n",
      "--------------------------------------------------------------------------------\n",
      "DATALOADER:0 TEST RESULTS\n",
      "{'test_acc': tensor(0.8692, device='cuda:0')}\n",
      "--------------------------------------------------------------------------------\n",
      "Inference time: 0:04:17.713231\n",
      "Ensemble holdout accuracy 0.8866043613707165\n"
     ]
    },
    {
     "data": {
      "text/plain": [
       "0.8866043613707165"
      ]
     },
     "execution_count": 5,
     "metadata": {},
     "output_type": "execute_result"
    },
    {
     "data": {
      "image/png": "[encoded data removed]",
      "text/plain": [
       "<Figure size 576x576 with 2 Axes>"
      ]
     },
     "metadata": {
      "needs_background": "light"
     },
     "output_type": "display_data"
    }
   ],
   "source": [
    "run_inference(experiment_name='tf_efficientnet_b4_ns_adamw_oencycle_smoothing=0.05_weighted_t1=0.8-t2=1',\n",
    "              tta=3, weight_avg=False, kaggle=False)"
   ]
  },
  {
   "cell_type": "code",
   "execution_count": null,
   "metadata": {},
   "outputs": [],
   "source": []
  }
 ],
 "metadata": {
  "kernelspec": {
   "display_name": "Python 3",
   "language": "python",
   "name": "python3"
  },
  "language_info": {
   "codemirror_mode": {
    "name": "ipython",
    "version": 3
   },
   "file_extension": ".py",
   "mimetype": "text/x-python",
   "name": "python",
   "nbconvert_exporter": "python",
   "pygments_lexer": "ipython3",
   "version": "3.7.9"
  }
 },
 "nbformat": 4,
 "nbformat_minor": 4
}
